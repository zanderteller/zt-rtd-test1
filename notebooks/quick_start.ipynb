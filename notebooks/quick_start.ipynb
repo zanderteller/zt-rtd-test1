{
 "cells": [
  {
   "cell_type": "markdown",
   "id": "8c706520-961b-45be-b32c-25ce3c4507d8",
   "metadata": {},
   "source": [
    "# Quick Start Guide\n",
    "\n",
    "2FIX: REMEMBER, USERS MAY ARRIVE HERE WITH BASICALLY NO CONTEXT AT ALL\n",
    "\n",
    "2FIX: ADD TEXT (with references/points (how specific?) to user guide and technical summary)\n",
    "* mention run_simple method up here?\n",
    "\n",
    "\n"
   ]
  },
  {
   "cell_type": "markdown",
   "id": "336bd972-6cf4-4fd2-b196-3bf89259e557",
   "metadata": {},
   "source": [
    "## Make sure that dqm is in your PYTHONPATH"
   ]
  },
  {
   "cell_type": "code",
   "execution_count": null,
   "id": "5dda0c5a-09b2-4b6d-bab6-9d46e60a4a54",
   "metadata": {
    "tags": []
   },
   "outputs": [],
   "source": [
    "### uncomment the code below and edit as needed\n",
    "\n",
    "# NOTE: you need the *parent* folder of the Python 'dqm' folder in the path.\n",
    "# the 'dqm' folder below is the *outer* folder, containing the README file, etc.\n",
    "\n",
    "#import os, sys\n",
    "#sys.path.append(os.path.join(os.path.expanduser('~'), 'dqm'))"
   ]
  },
  {
   "cell_type": "markdown",
   "id": "23bf8591-1967-49a0-823c-6e42a3ed48b5",
   "metadata": {},
   "source": [
    "## Imports"
   ]
  },
  {
   "cell_type": "code",
   "execution_count": null,
   "id": "310c4db7-f2bd-489f-b5d8-1190c3e2c932",
   "metadata": {
    "tags": []
   },
   "outputs": [],
   "source": [
    "### imports\n",
    "\n",
    "import numpy as np\n",
    "from dqm import dqm, plot_frames, extract_manifolds\n",
    "\n",
    "try:\n",
    "    import matplotlib.pyplot as plt\n",
    "    HAVE_PLT = True\n",
    "except:\n",
    "    HAVE_PLT = False\n",
    "print('have PyPlot:', HAVE_PLT)"
   ]
  },
  {
   "cell_type": "markdown",
   "id": "19135568-948a-4bfc-849d-17ce8519d9a8",
   "metadata": {
    "tags": []
   },
   "source": [
    "## Create a very simple data set\n",
    "\n",
    "* 20 dimensions\n",
    "* 4 spherical clusters grouped in 2 superclusters"
   ]
  },
  {
   "cell_type": "code",
   "execution_count": null,
   "id": "b1249890",
   "metadata": {
    "tags": []
   },
   "outputs": [],
   "source": [
    "def random_points_in_sphere(num_points, num_dims, radius, rand_seed=0):\n",
    "    '''\n",
    "    generate random points within a high-dimensional sphere\n",
    "    '''\n",
    "\n",
    "    rng = np.random.default_rng(rand_seed)\n",
    "    points = rng.uniform(low=-1, high=1, size=(num_points, num_dims))\n",
    "\n",
    "    # for each point, pick a random value between 0 and radius, skewed toward the maximum value (radius)\n",
    "    for row_idx in range(num_points):\n",
    "        r = radius * (rng.random() ** 0.5)\n",
    "        row = points[row_idx, :]\n",
    "        row_norm = np.linalg.norm(row)  # L2 norm is the default\n",
    "        points[row_idx, :] = row * r / row_norm\n",
    "    # end for each point/row\n",
    "\n",
    "    return points\n",
    "# end function random_points_in_sphere\n",
    "\n",
    "\n",
    "### build the data set\n",
    "\n",
    "# set parameters\n",
    "num_points_per_cluster = 100\n",
    "num_dims = 20\n",
    "cluster_radius= 4.0\n",
    "super_sep = 12  # separation between superclusters\n",
    "sub_sep = 10  # separation of clusters within superclusters\n",
    "\n",
    "# create 4 spherical clusters\n",
    "cluster0 = random_points_in_sphere(num_points_per_cluster, num_dims, cluster_radius, rand_seed=0)\n",
    "#cluster0[:, 0] = cluster0[:, 0] + delta0\n",
    "#cluster0[:, 1] = cluster0[:, 1] + delta1\n",
    "cluster1 = random_points_in_sphere(num_points_per_cluster, num_dims, cluster_radius, rand_seed=1)\n",
    "#cluster1[:, 0] = cluster1[:, 0] + delta0\n",
    "#cluster1[:, 1] = cluster1[:, 1] - delta1\n",
    "cluster2 = random_points_in_sphere(num_points_per_cluster, num_dims, cluster_radius, rand_seed=2)\n",
    "#cluster2[:, 0] = cluster2[:, 0] - delta0\n",
    "#cluster2[:, 1] = cluster2[:, 1] + delta1\n",
    "cluster3 = random_points_in_sphere(num_points_per_cluster, num_dims, cluster_radius, rand_seed=3)\n",
    "#cluster3[:, 0] = cluster3[:, 0] - delta0\n",
    "#cluster3[:, 1] = cluster3[:, 1] - delta1\n",
    "\n",
    "rng = np.random.default_rng(17)\n",
    "\n",
    "# create 2 superclusters by pushing clusters 0 and 1 in a random direction away from the origin and\n",
    "# pushing clusters 2 and 3 in the opposite direction\n",
    "dir = rng.uniform(low=-1, high=1, size=num_dims)\n",
    "dir_norm = np.linalg.norm(dir)\n",
    "dir /= dir_norm\n",
    "cluster0 += dir * super_sep / 2\n",
    "cluster1 += dir * super_sep / 2\n",
    "cluster2 -= dir * super_sep / 2\n",
    "cluster3 -= dir * super_sep / 2\n",
    "\n",
    "# separate clusters within superclusters\n",
    "dir = rng.uniform(low=-1, high=1, size=num_dims)\n",
    "dir_norm = np.linalg.norm(dir)\n",
    "dir /= dir_norm\n",
    "cluster0 += dir * sub_sep / 2\n",
    "cluster1 -= dir * sub_sep / 2\n",
    "dir = rng.uniform(low=-1, high=1, size=num_dims)\n",
    "dir_norm = np.linalg.norm(dir)\n",
    "dir /= dir_norm\n",
    "cluster2 += dir * sub_sep / 2\n",
    "cluster3 -= dir * sub_sep / 2\n",
    "\n",
    "# cat clusters together into single matrix\n",
    "dat = np.concatenate((cluster0, cluster1, cluster2, cluster3), axis=0)\n",
    "\n",
    "print('shape of raw data:', dat.shape)"
   ]
  },
  {
   "cell_type": "markdown",
   "id": "b8c95889-2797-436b-a843-f4d4ac8e7fe3",
   "metadata": {},
   "source": [
    "## Create a cluster color scheme"
   ]
  },
  {
   "cell_type": "code",
   "execution_count": null,
   "id": "ace4b91a-4948-4286-b46d-2f3f0a256233",
   "metadata": {
    "tags": []
   },
   "outputs": [],
   "source": [
    "# create cluster color scheme\n",
    "cluster_colors = np.zeros((dat.shape[0], 3))\n",
    "cluster_colors[:num_points_per_cluster, :] = np.array([1, 0, 0])  # cluster 0 is red\n",
    "cluster_colors[num_points_per_cluster:2*num_points_per_cluster, :] = np.array([0, 1, 0])  # cluster 1 is green\n",
    "cluster_colors[2*num_points_per_cluster:3*num_points_per_cluster, :] = np.array([0, 0, 1])  # cluster 2 is blue\n",
    "cluster_colors[3*num_points_per_cluster:4*num_points_per_cluster, :] = np.array([0.7, 0.7, 0.7])  # cluster 3 is gray\n",
    "\n",
    "# plot the first 3 columns of the 'dat' matrix\n",
    "plot_frames(dat, color=cluster_colors)"
   ]
  },
  {
   "cell_type": "markdown",
   "id": "da1c0236-07e5-4faa-9d90-a43162ebc8d1",
   "metadata": {
    "tags": []
   },
   "source": [
    "## create dqm instance and store raw data"
   ]
  },
  {
   "cell_type": "code",
   "execution_count": null,
   "id": "d7e119b8-7361-4dc1-a224-b48bd8ce79bc",
   "metadata": {
    "tags": []
   },
   "outputs": [],
   "source": [
    "dqm = dqm()\n",
    "dqm.verbose = True  # default True\n",
    "dqm.raw_data = dat"
   ]
  },
  {
   "cell_type": "markdown",
   "id": "b4561f98-4e87-4e14-ba05-a2795f9a0091",
   "metadata": {},
   "source": [
    "## Run PCA\n",
    "\n",
    "explain what's interesting about the results (see user guide for more detail)\n",
    "* difference between left and middle plots"
   ]
  },
  {
   "cell_type": "code",
   "execution_count": null,
   "id": "86390db3-bcb2-45d1-9c60-eb74b66ca842",
   "metadata": {
    "tags": []
   },
   "outputs": [],
   "source": [
    "dqm.run_pca()"
   ]
  },
  {
   "cell_type": "markdown",
   "id": "efea4420-2c4d-4fcb-bac0-bf0dbe429591",
   "metadata": {
    "tags": []
   },
   "source": [
    "## Choose how many PCA dimensions to use\n",
    "\n",
    "either explicitly or by setting a threshold for the cumulative variance"
   ]
  },
  {
   "cell_type": "code",
   "execution_count": null,
   "id": "4721fc50-62fd-4bfe-8a65-58ea12748fa7",
   "metadata": {
    "tags": []
   },
   "outputs": [],
   "source": [
    "## choose a cumulative-variance threshold and create frame 0\n",
    "\n",
    "dqm.clear_pca()\n",
    "\n",
    "dqm.pca_var_threshold = 0.9\n",
    "# OR...\n",
    "# dqm.pca_num_dims = \n",
    "dqm\n",
    "dqm.create_frame_0()"
   ]
  },
  {
   "cell_type": "code",
   "execution_count": null,
   "id": "0c6c447a-1af0-4826-8b17-26ece82e609b",
   "metadata": {
    "tags": []
   },
   "outputs": [],
   "source": [
    "fig = plot_frames_ipv(dqm.frames[:, :3, 0], size=2, color=cluster_colors, labels=['1', '2', '3'])"
   ]
  },
  {
   "cell_type": "code",
   "execution_count": null,
   "id": "4944482e-0448-4f9d-8730-aa07da4cd6f2",
   "metadata": {
    "tags": []
   },
   "outputs": [],
   "source": [
    "## (optionally) choose a limited basis\n",
    "dqm.basis_size = dqm.raw_data.shape[0] / 2  # use half the points as a basis\n",
    "dqm.choose_basis_by_distance()"
   ]
  },
  {
   "cell_type": "code",
   "execution_count": null,
   "id": "d8e14f01-6af4-4692-8370-57913b599b28",
   "metadata": {
    "tags": []
   },
   "outputs": [],
   "source": [
    "## plot with a color scheme that highlights the basis rows\n",
    "\n",
    "basis_colors = 0.8 * np.ones((dat.shape[0], 3))  # light gray\n",
    "basis_colors[dqm.basis_row_nums, :] = np.array([1, 0.6, 0])  # basis rows in orange\n",
    "\n",
    "sizes = 1.5 * np.ones(dat.shape[0])\n",
    "sizes[dqm.basis_row_nums] = 2  # make basis-row points bigger\n",
    "\n",
    "#fig = plot_frames_ipv(dqm.frames[:, :3, 0], size=sizes, color=basis_colors, labels=['1', '2', '3'])"
   ]
  },
  {
   "cell_type": "code",
   "execution_count": null,
   "id": "22cfd368-c5e0-42ec-8f11-664871e025c6",
   "metadata": {
    "tags": []
   },
   "outputs": [],
   "source": [
    "dqm.choose_sigma_for_basis()"
   ]
  },
  {
   "cell_type": "code",
   "execution_count": null,
   "id": "444f9c00-ace5-4e84-be97-38623cd78473",
   "metadata": {
    "tags": []
   },
   "outputs": [],
   "source": [
    "### look at non-basis overlaps\n",
    "\n",
    "print('building overlaps...')\n",
    "overlaps = dqm.build_overlaps()\n",
    "\n",
    "print('for sigma {:.4f}, non-basis overlaps have min {:.3f}, mean {:.3f}, median {:.3f}, max {:.3f}'.\\\n",
    "      format(dqm.sigma, np.min(overlaps), np.mean(overlaps), np.median(overlaps), np.max(overlaps)))\n",
    "\n",
    "if HAVE_PLT:\n",
    "    plt.hist(overlaps, bins=50)\n",
    "    plt.show()\n",
    "else:\n",
    "    print('ooops -- need a plotting package...')"
   ]
  },
  {
   "cell_type": "code",
   "execution_count": null,
   "id": "327b1d94-0036-43e0-9759-1dcd4b2c3fde",
   "metadata": {
    "tags": []
   },
   "outputs": [],
   "source": [
    "### set mass -- 2FIX....................!!!!!!!!!!!!!!\n",
    "\n",
    "dqm.mass = dqm.default_mass_for_num_dims()\n"
   ]
  },
  {
   "cell_type": "code",
   "execution_count": null,
   "id": "7e9728bd-7a05-43a6-86d9-db690ec5a8c4",
   "metadata": {
    "tags": []
   },
   "outputs": [],
   "source": [
    "dqm.build_operators()"
   ]
  },
  {
   "cell_type": "code",
   "execution_count": null,
   "id": "23e42f7d-78ea-47f3-9319-ff5a90df61b3",
   "metadata": {
    "tags": []
   },
   "outputs": [],
   "source": [
    "dqm.build_frames_auto(100)"
   ]
  },
  {
   "cell_type": "code",
   "execution_count": null,
   "id": "daf0d203-b96a-4a12-b3f6-d6ad0114f503",
   "metadata": {
    "tags": []
   },
   "outputs": [],
   "source": [
    "dqm.frames.shape"
   ]
  },
  {
   "cell_type": "code",
   "execution_count": null,
   "id": "c6ccb60b-28a5-47ca-b906-a16d5a75095c",
   "metadata": {
    "tags": []
   },
   "outputs": [],
   "source": [
    "dqm.mean_row_distance"
   ]
  },
  {
   "cell_type": "code",
   "execution_count": null,
   "id": "e722d036-f138-424b-8893-0c2be473804f",
   "metadata": {
    "tags": []
   },
   "outputs": [],
   "source": [
    "#fig = plot_frames_ipv(dqm.frames, size=2, color=cluster_colors)"
   ]
  },
  {
   "cell_type": "code",
   "execution_count": null,
   "id": "cc64859f-a2d9-4d2a-942d-b0981ed74980",
   "metadata": {},
   "outputs": [],
   "source": []
  },
  {
   "cell_type": "code",
   "execution_count": null,
   "id": "4595b2e5-014d-4c8c-9240-14bae40f2603",
   "metadata": {},
   "outputs": [],
   "source": [
    "### show clean separation of 4 clusters"
   ]
  },
  {
   "cell_type": "code",
   "execution_count": null,
   "id": "f403e27b-d00d-4bc6-bee9-0667f0ffab71",
   "metadata": {},
   "outputs": [],
   "source": []
  },
  {
   "cell_type": "code",
   "execution_count": null,
   "id": "6cfad6ae-1a09-49f0-b763-7fd0a5a0930d",
   "metadata": {
    "tags": []
   },
   "outputs": [],
   "source": [
    "### show clean separation of 2 superclusters with higher sigma"
   ]
  },
  {
   "cell_type": "code",
   "execution_count": null,
   "id": "242964cc",
   "metadata": {
    "tags": []
   },
   "outputs": [],
   "source": []
  },
  {
   "cell_type": "code",
   "execution_count": null,
   "id": "46772b9e-af39-47a7-83ef-fd809b173883",
   "metadata": {},
   "outputs": [],
   "source": []
  },
  {
   "cell_type": "code",
   "execution_count": null,
   "id": "f1a4241e-7ddb-414c-85f1-f47a79d4b3c9",
   "metadata": {},
   "outputs": [],
   "source": []
  },
  {
   "cell_type": "code",
   "execution_count": null,
   "id": "09e38912-db04-48bd-bdc2-0e83df0082a9",
   "metadata": {},
   "outputs": [],
   "source": []
  },
  {
   "cell_type": "code",
   "execution_count": null,
   "id": "2ff293fd-657c-43e7-8ad1-266dcb129ee6",
   "metadata": {
    "tags": []
   },
   "outputs": [],
   "source": []
  },
  {
   "cell_type": "code",
   "execution_count": null,
   "id": "6e554b09-2e68-49fa-afe3-be1bfb6316fe",
   "metadata": {
    "tags": []
   },
   "outputs": [],
   "source": []
  },
  {
   "cell_type": "code",
   "execution_count": null,
   "id": "41da635d",
   "metadata": {},
   "outputs": [],
   "source": []
  },
  {
   "cell_type": "code",
   "execution_count": null,
   "id": "41c0aab7",
   "metadata": {},
   "outputs": [],
   "source": [
    "###### THIS IS OUTDATED...\n",
    "\n",
    "print('saving operators to disk...')\n",
    "np.savez('operators.npz', simt=dqm.simt, xops=dqm.xops, exph=dqm.exph)"
   ]
  },
  {
   "cell_type": "code",
   "execution_count": null,
   "id": "9d826adc",
   "metadata": {},
   "outputs": [],
   "source": []
  },
  {
   "cell_type": "code",
   "execution_count": null,
   "id": "ba2dac04",
   "metadata": {},
   "outputs": [],
   "source": []
  }
 ],
 "metadata": {
  "kernelspec": {
   "display_name": "Python 3 (ipykernel)",
   "language": "python",
   "name": "python3"
  },
  "language_info": {
   "codemirror_mode": {
    "name": "ipython",
    "version": 3
   },
   "file_extension": ".py",
   "mimetype": "text/x-python",
   "name": "python",
   "nbconvert_exporter": "python",
   "pygments_lexer": "ipython3",
   "version": "3.11.2"
  }
 },
 "nbformat": 4,
 "nbformat_minor": 5
}
